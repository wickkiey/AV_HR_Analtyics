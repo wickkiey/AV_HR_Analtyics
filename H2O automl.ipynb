{
 "cells": [
  {
   "cell_type": "code",
   "execution_count": 4,
   "metadata": {
    "ExecuteTime": {
     "end_time": "2020-05-10T14:30:31.014554Z",
     "start_time": "2020-05-10T14:30:23.317066Z"
    }
   },
   "outputs": [],
   "source": [
    "import h2o\n",
    "from h2o.automl import H2OAutoML\n",
    "import pandas as pd"
   ]
  },
  {
   "cell_type": "code",
   "execution_count": 2,
   "metadata": {
    "ExecuteTime": {
     "end_time": "2020-05-10T14:30:14.874656Z",
     "start_time": "2020-05-10T14:29:47.089005Z"
    }
   },
   "outputs": [
    {
     "name": "stdout",
     "output_type": "stream",
     "text": [
      "Checking whether there is an H2O instance running at http://localhost:54321 ..... not found.\n",
      "Attempting to start a local H2O server...\n",
      "; Java HotSpot(TM) 64-Bit Server VM (build 13.0.1+9, mixed mode, sharing)\n",
      "  Starting server from D:\\Anaconda3\\envs\\deepcpu\\lib\\site-packages\\h2o\\backend\\bin\\h2o.jar\n",
      "  Ice root: C:\\Users\\Vivek\\AppData\\Local\\Temp\\tmpkowtte7k\n",
      "  JVM stdout: C:\\Users\\Vivek\\AppData\\Local\\Temp\\tmpkowtte7k\\h2o_Vivek_started_from_python.out\n",
      "  JVM stderr: C:\\Users\\Vivek\\AppData\\Local\\Temp\\tmpkowtte7k\\h2o_Vivek_started_from_python.err\n",
      "  Server is running at http://127.0.0.1:54321\n",
      "Connecting to H2O server at http://127.0.0.1:54321 ... successful.\n"
     ]
    },
    {
     "data": {
      "text/html": [
       "<div style=\"overflow:auto\"><table style=\"width:50%\"><tr><td>H2O_cluster_uptime:</td>\n",
       "<td>03 secs</td></tr>\n",
       "<tr><td>H2O_cluster_timezone:</td>\n",
       "<td>Asia/Kolkata</td></tr>\n",
       "<tr><td>H2O_data_parsing_timezone:</td>\n",
       "<td>UTC</td></tr>\n",
       "<tr><td>H2O_cluster_version:</td>\n",
       "<td>3.30.0.1</td></tr>\n",
       "<tr><td>H2O_cluster_version_age:</td>\n",
       "<td>1 month and 6 days </td></tr>\n",
       "<tr><td>H2O_cluster_name:</td>\n",
       "<td>H2O_from_python_Vivek_c093ke</td></tr>\n",
       "<tr><td>H2O_cluster_total_nodes:</td>\n",
       "<td>1</td></tr>\n",
       "<tr><td>H2O_cluster_free_memory:</td>\n",
       "<td>3.973 Gb</td></tr>\n",
       "<tr><td>H2O_cluster_total_cores:</td>\n",
       "<td>8</td></tr>\n",
       "<tr><td>H2O_cluster_allowed_cores:</td>\n",
       "<td>5</td></tr>\n",
       "<tr><td>H2O_cluster_status:</td>\n",
       "<td>accepting new members, healthy</td></tr>\n",
       "<tr><td>H2O_connection_url:</td>\n",
       "<td>http://127.0.0.1:54321</td></tr>\n",
       "<tr><td>H2O_connection_proxy:</td>\n",
       "<td>{\"http\": null, \"https\": null}</td></tr>\n",
       "<tr><td>H2O_internal_security:</td>\n",
       "<td>False</td></tr>\n",
       "<tr><td>H2O_API_Extensions:</td>\n",
       "<td>Amazon S3, Algos, AutoML, Core V3, TargetEncoder, Core V4</td></tr>\n",
       "<tr><td>Python_version:</td>\n",
       "<td>3.7.6 final</td></tr></table></div>"
      ],
      "text/plain": [
       "--------------------------  ---------------------------------------------------------\n",
       "H2O_cluster_uptime:         03 secs\n",
       "H2O_cluster_timezone:       Asia/Kolkata\n",
       "H2O_data_parsing_timezone:  UTC\n",
       "H2O_cluster_version:        3.30.0.1\n",
       "H2O_cluster_version_age:    1 month and 6 days\n",
       "H2O_cluster_name:           H2O_from_python_Vivek_c093ke\n",
       "H2O_cluster_total_nodes:    1\n",
       "H2O_cluster_free_memory:    3.973 Gb\n",
       "H2O_cluster_total_cores:    8\n",
       "H2O_cluster_allowed_cores:  5\n",
       "H2O_cluster_status:         accepting new members, healthy\n",
       "H2O_connection_url:         http://127.0.0.1:54321\n",
       "H2O_connection_proxy:       {\"http\": null, \"https\": null}\n",
       "H2O_internal_security:      False\n",
       "H2O_API_Extensions:         Amazon S3, Algos, AutoML, Core V3, TargetEncoder, Core V4\n",
       "Python_version:             3.7.6 final\n",
       "--------------------------  ---------------------------------------------------------"
      ]
     },
     "metadata": {},
     "output_type": "display_data"
    }
   ],
   "source": [
    "h2o.init(nthreads=5)"
   ]
  },
  {
   "cell_type": "code",
   "execution_count": 5,
   "metadata": {
    "ExecuteTime": {
     "end_time": "2020-05-10T14:30:31.106265Z",
     "start_time": "2020-05-10T14:30:31.016515Z"
    }
   },
   "outputs": [],
   "source": [
    "train = pd.read_csv(\"data/train_jqd04QH.csv\")\n",
    "test = pd.read_csv(\"data/test_KaymcHn.csv\")\n",
    "sub = pd.read_csv(\"data/sample_submission_sxfcbdx.csv\")"
   ]
  },
  {
   "cell_type": "code",
   "execution_count": 6,
   "metadata": {
    "ExecuteTime": {
     "end_time": "2020-05-10T14:30:54.104686Z",
     "start_time": "2020-05-10T14:30:50.828454Z"
    }
   },
   "outputs": [
    {
     "name": "stdout",
     "output_type": "stream",
     "text": [
      "Parse progress: |█████████████████████████████████████████████████████████| 100%\n",
      "Parse progress: |█████████████████████████████████████████████████████████| 100%\n"
     ]
    }
   ],
   "source": [
    "trainh2o = h2o.H2OFrame(train)\n",
    "testh2o = h2o.H2OFrame(test)"
   ]
  },
  {
   "cell_type": "code",
   "execution_count": 7,
   "metadata": {
    "ExecuteTime": {
     "end_time": "2020-05-10T14:32:21.488571Z",
     "start_time": "2020-05-10T14:32:21.483583Z"
    }
   },
   "outputs": [],
   "source": [
    "x = trainh2o.columns\n",
    "y = \"target\"\n",
    "x.remove(y)\n",
    "x.remove('enrollee_id')"
   ]
  },
  {
   "cell_type": "code",
   "execution_count": 9,
   "metadata": {
    "ExecuteTime": {
     "end_time": "2020-05-10T14:32:45.796554Z",
     "start_time": "2020-05-10T14:32:45.793553Z"
    }
   },
   "outputs": [],
   "source": [
    "trainh2o[y] = trainh2o[y].asfactor()"
   ]
  },
  {
   "cell_type": "code",
   "execution_count": null,
   "metadata": {
    "ExecuteTime": {
     "start_time": "2020-05-10T15:21:01.941Z"
    }
   },
   "outputs": [
    {
     "name": "stdout",
     "output_type": "stream",
     "text": [
      "AutoML progress: |\n",
      "20:51:01.958: AutoML: XGBoost is not available; skipping it.\n",
      "\n",
      "████████████████████████████████████████████"
     ]
    }
   ],
   "source": [
    "aml = H2OAutoML(max_models=21, seed=1)\n",
    "aml.train(x=x, y=y, training_frame=trainh2o)"
   ]
  },
  {
   "cell_type": "code",
   "execution_count": 11,
   "metadata": {
    "ExecuteTime": {
     "end_time": "2020-05-10T14:38:07.080847Z",
     "start_time": "2020-05-10T14:38:06.759680Z"
    }
   },
   "outputs": [
    {
     "data": {
      "text/html": [
       "<table>\n",
       "<thead>\n",
       "<tr><th>model_id                                           </th><th style=\"text-align: right;\">     auc</th><th style=\"text-align: right;\">  logloss</th><th style=\"text-align: right;\">   aucpr</th><th style=\"text-align: right;\">  mean_per_class_error</th><th style=\"text-align: right;\">    rmse</th><th style=\"text-align: right;\">     mse</th></tr>\n",
       "</thead>\n",
       "<tbody>\n",
       "<tr><td>StackedEnsemble_BestOfFamily_AutoML_20200510_200309</td><td style=\"text-align: right;\">0.65643 </td><td style=\"text-align: right;\"> 0.372865</td><td style=\"text-align: right;\">0.229991</td><td style=\"text-align: right;\">              0.380157</td><td style=\"text-align: right;\">0.332126</td><td style=\"text-align: right;\">0.110308</td></tr>\n",
       "<tr><td>StackedEnsemble_AllModels_AutoML_20200510_200309   </td><td style=\"text-align: right;\">0.655831</td><td style=\"text-align: right;\"> 0.372706</td><td style=\"text-align: right;\">0.230765</td><td style=\"text-align: right;\">              0.383145</td><td style=\"text-align: right;\">0.332024</td><td style=\"text-align: right;\">0.11024 </td></tr>\n",
       "<tr><td>GLM_1_AutoML_20200510_200309                       </td><td style=\"text-align: right;\">0.653319</td><td style=\"text-align: right;\"> 0.3735  </td><td style=\"text-align: right;\">0.224324</td><td style=\"text-align: right;\">              0.38289 </td><td style=\"text-align: right;\">0.332305</td><td style=\"text-align: right;\">0.110427</td></tr>\n",
       "<tr><td>GBM_1_AutoML_20200510_200309                       </td><td style=\"text-align: right;\">0.643649</td><td style=\"text-align: right;\"> 0.377299</td><td style=\"text-align: right;\">0.218687</td><td style=\"text-align: right;\">              0.391254</td><td style=\"text-align: right;\">0.33384 </td><td style=\"text-align: right;\">0.111449</td></tr>\n",
       "<tr><td>GBM_5_AutoML_20200510_200309                       </td><td style=\"text-align: right;\">0.640744</td><td style=\"text-align: right;\"> 0.378019</td><td style=\"text-align: right;\">0.222158</td><td style=\"text-align: right;\">              0.386622</td><td style=\"text-align: right;\">0.333332</td><td style=\"text-align: right;\">0.11111 </td></tr>\n",
       "<tr><td>GBM_2_AutoML_20200510_200309                       </td><td style=\"text-align: right;\">0.63915 </td><td style=\"text-align: right;\"> 0.378509</td><td style=\"text-align: right;\">0.220771</td><td style=\"text-align: right;\">              0.387712</td><td style=\"text-align: right;\">0.333788</td><td style=\"text-align: right;\">0.111415</td></tr>\n",
       "<tr><td>GBM_3_AutoML_20200510_200309                       </td><td style=\"text-align: right;\">0.632452</td><td style=\"text-align: right;\"> 0.381617</td><td style=\"text-align: right;\">0.215137</td><td style=\"text-align: right;\">              0.390322</td><td style=\"text-align: right;\">0.334973</td><td style=\"text-align: right;\">0.112207</td></tr>\n",
       "<tr><td>GBM_4_AutoML_20200510_200309                       </td><td style=\"text-align: right;\">0.624776</td><td style=\"text-align: right;\"> 0.38786 </td><td style=\"text-align: right;\">0.212585</td><td style=\"text-align: right;\">              0.400545</td><td style=\"text-align: right;\">0.336773</td><td style=\"text-align: right;\">0.113416</td></tr>\n",
       "<tr><td>DRF_1_AutoML_20200510_200309                       </td><td style=\"text-align: right;\">0.623137</td><td style=\"text-align: right;\"> 0.40868 </td><td style=\"text-align: right;\">0.210381</td><td style=\"text-align: right;\">              0.399393</td><td style=\"text-align: right;\">0.338811</td><td style=\"text-align: right;\">0.114793</td></tr>\n",
       "</tbody>\n",
       "</table>"
      ]
     },
     "metadata": {},
     "output_type": "display_data"
    },
    {
     "data": {
      "text/plain": []
     },
     "execution_count": 11,
     "metadata": {},
     "output_type": "execute_result"
    }
   ],
   "source": [
    "lb = aml.leaderboard\n",
    "lb.head(rows=lb.nrows)"
   ]
  },
  {
   "cell_type": "code",
   "execution_count": null,
   "metadata": {
    "ExecuteTime": {
     "end_time": "2020-05-10T15:20:50.591210Z",
     "start_time": "2020-05-10T15:11:11.501Z"
    }
   },
   "outputs": [],
   "source": [
    "pred = aml.predict(testh2o)"
   ]
  },
  {
   "cell_type": "code",
   "execution_count": null,
   "metadata": {
    "ExecuteTime": {
     "end_time": "2020-05-10T15:20:50.593198Z",
     "start_time": "2020-05-10T15:12:32.448Z"
    }
   },
   "outputs": [],
   "source": [
    "sub['target'] = h2o.as_list(pred['p1'])\n"
   ]
  },
  {
   "cell_type": "code",
   "execution_count": null,
   "metadata": {
    "ExecuteTime": {
     "end_time": "2020-05-10T15:20:50.594195Z",
     "start_time": "2020-05-10T15:12:33.755Z"
    }
   },
   "outputs": [],
   "source": [
    "sub.to_csv(\"h2o_ensemble.csv\",index=False)"
   ]
  },
  {
   "cell_type": "code",
   "execution_count": null,
   "metadata": {},
   "outputs": [],
   "source": []
  }
 ],
 "metadata": {
  "hide_input": false,
  "kernelspec": {
   "display_name": "Python 3",
   "language": "python",
   "name": "python3"
  },
  "language_info": {
   "codemirror_mode": {
    "name": "ipython",
    "version": 3
   },
   "file_extension": ".py",
   "mimetype": "text/x-python",
   "name": "python",
   "nbconvert_exporter": "python",
   "pygments_lexer": "ipython3",
   "version": "3.7.6"
  },
  "toc": {
   "base_numbering": 1,
   "nav_menu": {},
   "number_sections": true,
   "sideBar": true,
   "skip_h1_title": false,
   "title_cell": "Table of Contents",
   "title_sidebar": "Contents",
   "toc_cell": false,
   "toc_position": {},
   "toc_section_display": true,
   "toc_window_display": false
  }
 },
 "nbformat": 4,
 "nbformat_minor": 4
}
